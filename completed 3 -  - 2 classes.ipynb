{
 "cells": [
  {
   "cell_type": "markdown",
   "id": "a9fdead8",
   "metadata": {},
   "source": [
    "<h1>\n",
    "<div class = \"alert alert-info\">\n",
    "<dt>Sentiment Analysis and recommendation on Amazon's Electronics Dataset</dt>\n",
    "</div>\n",
    "</h1>"
   ]
  },
  {
   "cell_type": "markdown",
   "id": "e7788654",
   "metadata": {},
   "source": [
    "## purpose\n",
    "1. \n",
    "2. "
   ]
  },
  {
   "cell_type": "markdown",
   "id": "d543abf9",
   "metadata": {},
   "source": [
    "<font size=\"+1.5\">\n",
    "<div class=\"alert alert-block alert-warning\">\n",
    "<dt>Data Import</dt>\n",
    "</div>\n",
    "</font>"
   ]
  },
  {
   "cell_type": "code",
   "execution_count": 1,
   "id": "98ca517f",
   "metadata": {},
   "outputs": [],
   "source": [
    "# return all results in the cell \n",
    "from IPython.core.interactiveshell import InteractiveShell\n",
    "InteractiveShell.ast_node_interactivity = \"all\""
   ]
  },
  {
   "cell_type": "code",
   "execution_count": 2,
   "id": "6f6099ac",
   "metadata": {},
   "outputs": [
    {
     "data": {
      "text/plain": [
       "<spacymoji.Emoji at 0x222ba36f910>"
      ]
     },
     "execution_count": 2,
     "metadata": {},
     "output_type": "execute_result"
    }
   ],
   "source": [
    "import numpy as np\n",
    "import pandas as pd\n",
    "import matplotlib.pyplot as plt\n",
    "\n",
    "import seaborn as sns\n",
    "import gzip\n",
    "import json\n",
    "import pprint\n",
    "\n",
    "import contractions\n",
    "import re\n",
    "\n",
    "import string\n",
    "punctuations = string.punctuation\n",
    "# removed '!' and '?'\n",
    "revised_punct = '\"#$%&\\'()*+,-./:;<=>@[\\\\]^_`{|}~'\n",
    "\n",
    "# loading the nlp model\n",
    "import spacy\n",
    "# \"parser\", \"ner\"\n",
    "nlp = spacy.load(\"en_core_web_sm\", disable=[\"textcat\", \n",
    "                                            \"textcat_multilabel\", \n",
    "                                            \"entity_linker\", \"custom\"\n",
    "                                           ])\n",
    "\n",
    "from spacy.tokenizer import Tokenizer\n",
    "\n",
    "# Creating a Spacy Parser -- Eng\n",
    "from spacy.lang.en import English\n",
    "parser = English()\n",
    "\n",
    "# getting stopwords from spacy \n",
    "from spacy.lang.en.stop_words import STOP_WORDS\n",
    "stopwords = list(STOP_WORDS)\n",
    "\n",
    "from spacymoji import Emoji\n",
    "emoji = Emoji(nlp)\n",
    "nlp.add_pipe('emoji', first=True)\n"
   ]
  },
  {
   "cell_type": "code",
   "execution_count": 3,
   "id": "b760986c",
   "metadata": {},
   "outputs": [],
   "source": [
    "# save the json file path\n",
    "file_name = \"Electronics.json\""
   ]
  },
  {
   "cell_type": "code",
   "execution_count": 4,
   "id": "2dd17088",
   "metadata": {},
   "outputs": [
    {
     "name": "stdout",
     "output_type": "stream",
     "text": [
      "{'asin': '0060009810',\n",
      " 'overall': 5.0,\n",
      " 'reviewText': 'This was the first time I read Garcia-Aguilera.  I came upon '\n",
      "               'the name of this book on Live with Regis and Kelly. This book '\n",
      "               'was exactly what I was looking for ... it hit the spot.  I '\n",
      "               'really enjoyed this book because it was well written. Once I '\n",
      "               'started this book it kept me coming back for more. It had '\n",
      "               'culture, family, friendship and romance. I was looking for a '\n",
      "               'little more romance when I picked this book but in the end it '\n",
      "               'turned out to be just right.  I love the main chartachter '\n",
      "               \"Margarita (aka Daisy). I've never been to Miami but the way \"\n",
      "               \"Daisy told the story I certainly felt I'd been there.\\n\"\n",
      "               \"Also after going through all of Daisy's perils ... I closed \"\n",
      "               'the book with a feeling I had grown emotionally as well.',\n",
      " 'reviewTime': '07 17, 2002',\n",
      " 'reviewerID': 'A1N070NS9CJQ2I',\n",
      " 'reviewerName': 'Teri Adams',\n",
      " 'style': {'Format:': ' Hardcover'},\n",
      " 'summary': 'Hit The Spot!',\n",
      " 'unixReviewTime': 1026864000,\n",
      " 'verified': True}\n",
      "\n"
     ]
    }
   ],
   "source": [
    "# read the json file line by line\n",
    "class json_generator_pipe:\n",
    "        \n",
    "    # initialize all parameters\n",
    "    '''\n",
    "    file_name is where we save the file path as above\n",
    "    print_lines is a parameter to determine how many data can be shown if the data and the class works well\n",
    "    save_lines is a parameter to decide how many data you generate from the json file\n",
    "    '''\n",
    "    def __init__(self, file_name, print_lines=1, save_lines= 9999):\n",
    "        self.file_name = file_name\n",
    "        self.print_lines = print_lines\n",
    "        self.save_lines = save_lines\n",
    "        \n",
    "    # get the file object\n",
    "    def read_json_file(self):\n",
    "        file_object = open(self.file_name, 'r')\n",
    "        return file_object\n",
    "\n",
    "    # get the generator to load data\n",
    "    def get_generator(self):\n",
    "        file_object = self.read_json_file()\n",
    "        while True:\n",
    "            line = file_object.readline()\n",
    "            if len(line) == 0:\n",
    "                break\n",
    "            data = json.loads(line)\n",
    "            yield data\n",
    "    \n",
    "    # print the data to see if the class works well\n",
    "    def print_data(self):\n",
    "        data_generator = self.get_generator()\n",
    "        num_lines = 0\n",
    "        for tmp in data_generator:\n",
    "            if num_lines == self.print_lines:\n",
    "                break\n",
    "            num_lines += 1\n",
    "            pprint.pprint(tmp)\n",
    "            print()\n",
    "    \n",
    "    # save the data for the following manipulation\n",
    "    def save_data(self):\n",
    "        data_generator = self.get_generator()\n",
    "        data = []\n",
    "        num_lines = 0\n",
    "        for temp in data_generator:\n",
    "            num_lines += 1\n",
    "            data.append(temp)\n",
    "            if num_lines == self.save_lines:\n",
    "                break\n",
    "        return data\n",
    "\n",
    "# implement the class, print_data function, and raw_data for next step\n",
    "load_class = json_generator_pipe(file_name=file_name)\n",
    "print_data = load_class.print_data()\n",
    "raw_data = load_class.save_data()"
   ]
  },
  {
   "cell_type": "code",
   "execution_count": 5,
   "id": "0d55c52e",
   "metadata": {
    "scrolled": false
   },
   "outputs": [
    {
     "data": {
      "text/html": [
       "<div>\n",
       "<style scoped>\n",
       "    .dataframe tbody tr th:only-of-type {\n",
       "        vertical-align: middle;\n",
       "    }\n",
       "\n",
       "    .dataframe tbody tr th {\n",
       "        vertical-align: top;\n",
       "    }\n",
       "\n",
       "    .dataframe thead th {\n",
       "        text-align: right;\n",
       "    }\n",
       "</style>\n",
       "<table border=\"1\" class=\"dataframe\">\n",
       "  <thead>\n",
       "    <tr style=\"text-align: right;\">\n",
       "      <th></th>\n",
       "      <th>overall</th>\n",
       "      <th>verified</th>\n",
       "      <th>reviewTime</th>\n",
       "      <th>reviewerID</th>\n",
       "      <th>asin</th>\n",
       "      <th>reviewerName</th>\n",
       "      <th>reviewText</th>\n",
       "      <th>summary</th>\n",
       "      <th>unixReviewTime</th>\n",
       "      <th>style.Format:</th>\n",
       "      <th>vote</th>\n",
       "      <th>image</th>\n",
       "      <th>style.Color:</th>\n",
       "    </tr>\n",
       "  </thead>\n",
       "  <tbody>\n",
       "    <tr>\n",
       "      <th>0</th>\n",
       "      <td>5.0</td>\n",
       "      <td>True</td>\n",
       "      <td>07 17, 2002</td>\n",
       "      <td>A1N070NS9CJQ2I</td>\n",
       "      <td>0060009810</td>\n",
       "      <td>Teri Adams</td>\n",
       "      <td>This was the first time I read Garcia-Aguilera...</td>\n",
       "      <td>Hit The Spot!</td>\n",
       "      <td>1026864000</td>\n",
       "      <td>Hardcover</td>\n",
       "      <td>NaN</td>\n",
       "      <td>NaN</td>\n",
       "      <td>NaN</td>\n",
       "    </tr>\n",
       "    <tr>\n",
       "      <th>1</th>\n",
       "      <td>5.0</td>\n",
       "      <td>False</td>\n",
       "      <td>07 6, 2002</td>\n",
       "      <td>A3P0KRKOBQK1KN</td>\n",
       "      <td>0060009810</td>\n",
       "      <td>Willa C.</td>\n",
       "      <td>As with all of Ms. Garcia-Aguilera's books, I ...</td>\n",
       "      <td>one hot summer is HOT HOT HOT!</td>\n",
       "      <td>1025913600</td>\n",
       "      <td>Hardcover</td>\n",
       "      <td>NaN</td>\n",
       "      <td>NaN</td>\n",
       "      <td>NaN</td>\n",
       "    </tr>\n",
       "    <tr>\n",
       "      <th>2</th>\n",
       "      <td>5.0</td>\n",
       "      <td>False</td>\n",
       "      <td>07 3, 2002</td>\n",
       "      <td>A192HO2ICJ75VU</td>\n",
       "      <td>0060009810</td>\n",
       "      <td>Kit</td>\n",
       "      <td>I've not read any of Ms Aguilera's works befor...</td>\n",
       "      <td>One Hot Summer</td>\n",
       "      <td>1025654400</td>\n",
       "      <td>Hardcover</td>\n",
       "      <td>2</td>\n",
       "      <td>NaN</td>\n",
       "      <td>NaN</td>\n",
       "    </tr>\n",
       "    <tr>\n",
       "      <th>3</th>\n",
       "      <td>4.0</td>\n",
       "      <td>False</td>\n",
       "      <td>06 30, 2002</td>\n",
       "      <td>A2T278FKFL3BLT</td>\n",
       "      <td>0060009810</td>\n",
       "      <td>Andres</td>\n",
       "      <td>This romance novel is right up there with the ...</td>\n",
       "      <td>I love this book!</td>\n",
       "      <td>1025395200</td>\n",
       "      <td>Hardcover</td>\n",
       "      <td>3</td>\n",
       "      <td>NaN</td>\n",
       "      <td>NaN</td>\n",
       "    </tr>\n",
       "    <tr>\n",
       "      <th>4</th>\n",
       "      <td>5.0</td>\n",
       "      <td>False</td>\n",
       "      <td>06 28, 2002</td>\n",
       "      <td>A2ZUXVTW8RXBXW</td>\n",
       "      <td>0060009810</td>\n",
       "      <td>John</td>\n",
       "      <td>Carolina Garcia Aguilera has done it again.  S...</td>\n",
       "      <td>One Hot Book</td>\n",
       "      <td>1025222400</td>\n",
       "      <td>Hardcover</td>\n",
       "      <td>NaN</td>\n",
       "      <td>NaN</td>\n",
       "      <td>NaN</td>\n",
       "    </tr>\n",
       "  </tbody>\n",
       "</table>\n",
       "</div>"
      ],
      "text/plain": [
       "   overall  verified   reviewTime      reviewerID        asin reviewerName  \\\n",
       "0      5.0      True  07 17, 2002  A1N070NS9CJQ2I  0060009810   Teri Adams   \n",
       "1      5.0     False   07 6, 2002  A3P0KRKOBQK1KN  0060009810     Willa C.   \n",
       "2      5.0     False   07 3, 2002  A192HO2ICJ75VU  0060009810          Kit   \n",
       "3      4.0     False  06 30, 2002  A2T278FKFL3BLT  0060009810       Andres   \n",
       "4      5.0     False  06 28, 2002  A2ZUXVTW8RXBXW  0060009810         John   \n",
       "\n",
       "                                          reviewText  \\\n",
       "0  This was the first time I read Garcia-Aguilera...   \n",
       "1  As with all of Ms. Garcia-Aguilera's books, I ...   \n",
       "2  I've not read any of Ms Aguilera's works befor...   \n",
       "3  This romance novel is right up there with the ...   \n",
       "4  Carolina Garcia Aguilera has done it again.  S...   \n",
       "\n",
       "                          summary  unixReviewTime style.Format: vote image  \\\n",
       "0                   Hit The Spot!      1026864000     Hardcover  NaN   NaN   \n",
       "1  one hot summer is HOT HOT HOT!      1025913600     Hardcover  NaN   NaN   \n",
       "2                  One Hot Summer      1025654400     Hardcover    2   NaN   \n",
       "3               I love this book!      1025395200     Hardcover    3   NaN   \n",
       "4                    One Hot Book      1025222400     Hardcover  NaN   NaN   \n",
       "\n",
       "  style.Color:  \n",
       "0          NaN  \n",
       "1          NaN  \n",
       "2          NaN  \n",
       "3          NaN  \n",
       "4          NaN  "
      ]
     },
     "execution_count": 5,
     "metadata": {},
     "output_type": "execute_result"
    }
   ],
   "source": [
    "# transform the json object to dataframe\n",
    "df = pd.json_normalize(raw_data)\n",
    "df.head()"
   ]
  },
  {
   "cell_type": "code",
   "execution_count": 6,
   "id": "ab8af31c",
   "metadata": {
    "scrolled": false
   },
   "outputs": [
    {
     "name": "stdout",
     "output_type": "stream",
     "text": [
      "<class 'pandas.core.frame.DataFrame'>\n",
      "RangeIndex: 9999 entries, 0 to 9998\n",
      "Data columns (total 13 columns):\n",
      " #   Column          Non-Null Count  Dtype  \n",
      "---  ------          --------------  -----  \n",
      " 0   overall         9999 non-null   float64\n",
      " 1   verified        9999 non-null   bool   \n",
      " 2   reviewTime      9999 non-null   object \n",
      " 3   reviewerID      9999 non-null   object \n",
      " 4   asin            9999 non-null   object \n",
      " 5   reviewerName    9999 non-null   object \n",
      " 6   reviewText      9998 non-null   object \n",
      " 7   summary         9997 non-null   object \n",
      " 8   unixReviewTime  9999 non-null   int64  \n",
      " 9   style.Format:   4502 non-null   object \n",
      " 10  vote            1842 non-null   object \n",
      " 11  image           33 non-null     object \n",
      " 12  style.Color:    382 non-null    object \n",
      "dtypes: bool(1), float64(1), int64(1), object(10)\n",
      "memory usage: 947.3+ KB\n"
     ]
    }
   ],
   "source": [
    "# show the num counts\n",
    "# when data count is too many, it may not be shown. show_counts is the parameter to show the data count no matter how many\n",
    "df.info(show_counts = True)"
   ]
  },
  {
   "cell_type": "markdown",
   "id": "f3aad295",
   "metadata": {},
   "source": [
    "### Data Wrangling"
   ]
  },
  {
   "cell_type": "code",
   "execution_count": 7,
   "id": "defa06ac",
   "metadata": {
    "scrolled": true
   },
   "outputs": [
    {
     "data": {
      "text/html": [
       "<div>\n",
       "<style scoped>\n",
       "    .dataframe tbody tr th:only-of-type {\n",
       "        vertical-align: middle;\n",
       "    }\n",
       "\n",
       "    .dataframe tbody tr th {\n",
       "        vertical-align: top;\n",
       "    }\n",
       "\n",
       "    .dataframe thead th {\n",
       "        text-align: right;\n",
       "    }\n",
       "</style>\n",
       "<table border=\"1\" class=\"dataframe\">\n",
       "  <thead>\n",
       "    <tr style=\"text-align: right;\">\n",
       "      <th></th>\n",
       "      <th>ID</th>\n",
       "      <th>reviewText</th>\n",
       "      <th>Rating</th>\n",
       "    </tr>\n",
       "  </thead>\n",
       "  <tbody>\n",
       "    <tr>\n",
       "      <th>0</th>\n",
       "      <td>0</td>\n",
       "      <td>This was the first time I read Garcia-Aguilera...</td>\n",
       "      <td>5.0</td>\n",
       "    </tr>\n",
       "    <tr>\n",
       "      <th>1</th>\n",
       "      <td>1</td>\n",
       "      <td>As with all of Ms. Garcia-Aguilera's books, I ...</td>\n",
       "      <td>5.0</td>\n",
       "    </tr>\n",
       "    <tr>\n",
       "      <th>2</th>\n",
       "      <td>2</td>\n",
       "      <td>I've not read any of Ms Aguilera's works befor...</td>\n",
       "      <td>5.0</td>\n",
       "    </tr>\n",
       "    <tr>\n",
       "      <th>3</th>\n",
       "      <td>3</td>\n",
       "      <td>This romance novel is right up there with the ...</td>\n",
       "      <td>4.0</td>\n",
       "    </tr>\n",
       "    <tr>\n",
       "      <th>4</th>\n",
       "      <td>4</td>\n",
       "      <td>Carolina Garcia Aguilera has done it again.  S...</td>\n",
       "      <td>5.0</td>\n",
       "    </tr>\n",
       "  </tbody>\n",
       "</table>\n",
       "</div>"
      ],
      "text/plain": [
       "   ID                                         reviewText  Rating\n",
       "0   0  This was the first time I read Garcia-Aguilera...     5.0\n",
       "1   1  As with all of Ms. Garcia-Aguilera's books, I ...     5.0\n",
       "2   2  I've not read any of Ms Aguilera's works befor...     5.0\n",
       "3   3  This romance novel is right up there with the ...     4.0\n",
       "4   4  Carolina Garcia Aguilera has done it again.  S...     5.0"
      ]
     },
     "execution_count": 7,
     "metadata": {},
     "output_type": "execute_result"
    }
   ],
   "source": [
    "# only get the text reviewtest and rating columns as a new dataframe 'review_df'\n",
    "review_df = df[['reviewText', 'overall']]\n",
    "review_df = review_df.rename(columns={'overall': 'Rating'})\n",
    "\n",
    "# set index as column number into dataframe\n",
    "review_df['ID'] = review_df.index\n",
    "review_df = review_df[['ID', 'reviewText', 'Rating']]\n",
    "review_df.head()"
   ]
  },
  {
   "cell_type": "code",
   "execution_count": 8,
   "id": "b85b66eb",
   "metadata": {},
   "outputs": [],
   "source": [
    "review_df['Rating'] = np.where(review_df['Rating'] > 3, 1, 0)"
   ]
  },
  {
   "cell_type": "code",
   "execution_count": 10,
   "id": "fae85e7f",
   "metadata": {},
   "outputs": [
    {
     "data": {
      "text/plain": [
       "ID            0\n",
       "reviewText    1\n",
       "Rating        0\n",
       "dtype: int64"
      ]
     },
     "execution_count": 10,
     "metadata": {},
     "output_type": "execute_result"
    }
   ],
   "source": [
    "# check if any Null value\n",
    "review_df.isnull().sum()"
   ]
  },
  {
   "cell_type": "code",
   "execution_count": 11,
   "id": "525d0abb",
   "metadata": {},
   "outputs": [
    {
     "data": {
      "text/plain": [
       "ID            0\n",
       "reviewText    0\n",
       "Rating        0\n",
       "dtype: int64"
      ]
     },
     "execution_count": 11,
     "metadata": {},
     "output_type": "execute_result"
    },
    {
     "data": {
      "text/plain": [
       "ID            9998\n",
       "reviewText    9998\n",
       "Rating        9998\n",
       "dtype: int64"
      ]
     },
     "execution_count": 11,
     "metadata": {},
     "output_type": "execute_result"
    }
   ],
   "source": [
    "# drop the Null value if it's not many\n",
    "review_df = review_df.dropna()\n",
    "\n",
    "# check if the Null value is deleted\n",
    "review_df.isnull().sum()\n",
    "review_df.count()\n",
    "\n",
    "# need to reindex \n",
    "review_df.reset_index(drop=True, inplace=True)"
   ]
  },
  {
   "cell_type": "code",
   "execution_count": 12,
   "id": "34d14a5d",
   "metadata": {},
   "outputs": [
    {
     "data": {
      "text/html": [
       "<div>\n",
       "<style scoped>\n",
       "    .dataframe tbody tr th:only-of-type {\n",
       "        vertical-align: middle;\n",
       "    }\n",
       "\n",
       "    .dataframe tbody tr th {\n",
       "        vertical-align: top;\n",
       "    }\n",
       "\n",
       "    .dataframe thead th {\n",
       "        text-align: right;\n",
       "    }\n",
       "</style>\n",
       "<table border=\"1\" class=\"dataframe\">\n",
       "  <thead>\n",
       "    <tr style=\"text-align: right;\">\n",
       "      <th></th>\n",
       "      <th>overall</th>\n",
       "      <th>verified</th>\n",
       "      <th>reviewTime</th>\n",
       "      <th>reviewerID</th>\n",
       "      <th>asin</th>\n",
       "      <th>reviewerName</th>\n",
       "      <th>reviewText</th>\n",
       "    </tr>\n",
       "  </thead>\n",
       "  <tbody>\n",
       "  </tbody>\n",
       "</table>\n",
       "</div>"
      ],
      "text/plain": [
       "Empty DataFrame\n",
       "Columns: [overall, verified, reviewTime, reviewerID, asin, reviewerName, reviewText]\n",
       "Index: []"
      ]
     },
     "execution_count": 12,
     "metadata": {},
     "output_type": "execute_result"
    }
   ],
   "source": [
    "# reviewtext is a emoji, need to deal with later\n",
    "df.iloc[12770:12771, :7]"
   ]
  },
  {
   "cell_type": "code",
   "execution_count": 13,
   "id": "ccacc72e",
   "metadata": {},
   "outputs": [
    {
     "data": {
      "text/plain": [
       "['www.google.com/telephone/wire',\n",
       " 'http://pbreadinglist.herokuapp.com/books/TvEqDAAAQBAJ#.XVOriU5z2tA.twitter',\n",
       " 'www.pip.org',\n",
       " 'google.com',\n",
       " 'twitter.com',\n",
       " 'facebook.com']"
      ]
     },
     "execution_count": 13,
     "metadata": {},
     "output_type": "execute_result"
    },
    {
     "name": "stderr",
     "output_type": "stream",
     "text": [
      "C:\\Users\\jerry\\AppData\\Local\\Temp/ipykernel_26136/3297700355.py:17: SettingWithCopyWarning: \n",
      "A value is trying to be set on a copy of a slice from a DataFrame.\n",
      "Try using .loc[row_indexer,col_indexer] = value instead\n",
      "\n",
      "See the caveats in the documentation: https://pandas.pydata.org/pandas-docs/stable/user_guide/indexing.html#returning-a-view-versus-a-copy\n",
      "  review_df['reviewText'] = review_df['reviewText'].apply(lambda string : re.sub(pattern, \"\", string))\n"
     ]
    }
   ],
   "source": [
    "# URL Counts\n",
    "pattern =  r'(?:http://)?\\w+\\.\\S*[^.\\s]'\n",
    "tweet = ('PyBites My Reading List | 12 Rules for Life - #books '\n",
    "             'that expand the mind! '\n",
    "             'www.google.com/telephone/wire....  '\n",
    "             'http://pbreadinglist.herokuapp.com/books/'\n",
    "             'TvEqDAAAQBAJ#.XVOriU5z2tA.twitter '\n",
    "             \"http://-www.pip.org \"\n",
    "             \"google.com \"\n",
    "             \"twitter.com \"\n",
    "             \"facebook.com\"\n",
    "             ' #psychology #philosophy')\n",
    "\n",
    "re.findall(pattern, tweet)\n",
    "\n",
    "# 'Yes' represents the comment includes URL, 'No' means it doesn't have\n",
    "review_df['reviewText'] = review_df['reviewText'].apply(lambda string : re.sub(pattern, \"\", string))"
   ]
  },
  {
   "cell_type": "code",
   "execution_count": 14,
   "id": "5d98c902",
   "metadata": {},
   "outputs": [
    {
     "name": "stderr",
     "output_type": "stream",
     "text": [
      "C:\\Users\\jerry\\AppData\\Local\\Temp/ipykernel_26136/3816312430.py:8: SettingWithCopyWarning: \n",
      "A value is trying to be set on a copy of a slice from a DataFrame.\n",
      "Try using .loc[row_indexer,col_indexer] = value instead\n",
      "\n",
      "See the caveats in the documentation: https://pandas.pydata.org/pandas-docs/stable/user_guide/indexing.html#returning-a-view-versus-a-copy\n",
      "  review_df['reviewText'] = review_df['reviewText'].apply(lambda string : remove_acc_data(string))\n"
     ]
    }
   ],
   "source": [
    "# Accented Chars Counts\n",
    "import unicodedata\n",
    "def remove_acc_data(x):\n",
    "    x = unicodedata.normalize('NFKD', x).encode('ascii', 'ignore').decode('utf-8', 'ignore')\n",
    "    return x\n",
    "\n",
    "# 'Yes' represents the comment has Accented Chars, 'No' means it doesn't have\n",
    "review_df['reviewText'] = review_df['reviewText'].apply(lambda string : remove_acc_data(string))\n"
   ]
  },
  {
   "cell_type": "code",
   "execution_count": 15,
   "id": "dc36d25f",
   "metadata": {},
   "outputs": [
    {
     "name": "stderr",
     "output_type": "stream",
     "text": [
      "C:\\Users\\jerry\\AppData\\Local\\Temp/ipykernel_26136/382662102.py:2: SettingWithCopyWarning: \n",
      "A value is trying to be set on a copy of a slice from a DataFrame.\n",
      "Try using .loc[row_indexer,col_indexer] = value instead\n",
      "\n",
      "See the caveats in the documentation: https://pandas.pydata.org/pandas-docs/stable/user_guide/indexing.html#returning-a-view-versus-a-copy\n",
      "  review_df['reviewText'] = review_df['reviewText'].apply(lambda string : \" \".join(string.split()))\n"
     ]
    }
   ],
   "source": [
    "# remove multiple spaces in the comments\n",
    "review_df['reviewText'] = review_df['reviewText'].apply(lambda string : \" \".join(string.split()))"
   ]
  },
  {
   "cell_type": "code",
   "execution_count": 16,
   "id": "f9b54837",
   "metadata": {},
   "outputs": [
    {
     "name": "stderr",
     "output_type": "stream",
     "text": [
      "C:\\Users\\jerry\\AppData\\Local\\Temp/ipykernel_26136/3179821623.py:2: SettingWithCopyWarning: \n",
      "A value is trying to be set on a copy of a slice from a DataFrame.\n",
      "Try using .loc[row_indexer,col_indexer] = value instead\n",
      "\n",
      "See the caveats in the documentation: https://pandas.pydata.org/pandas-docs/stable/user_guide/indexing.html#returning-a-view-versus-a-copy\n",
      "  review_df['reviewText'] = review_df['reviewText'].apply(lambda string : contractions.fix(string))\n"
     ]
    }
   ],
   "source": [
    "# expand the short forms, expecailly \"'ve\" to have that can not achieve in the sapcy\n",
    "review_df['reviewText'] = review_df['reviewText'].apply(lambda string : contractions.fix(string))"
   ]
  },
  {
   "cell_type": "code",
   "execution_count": 18,
   "id": "af36a01e",
   "metadata": {
    "scrolled": false
   },
   "outputs": [
    {
     "name": "stdout",
     "output_type": "stream",
     "text": [
      "Wall time: 1min 56s\n"
     ]
    },
    {
     "name": "stderr",
     "output_type": "stream",
     "text": [
      "<timed exec>:1: SettingWithCopyWarning: \n",
      "A value is trying to be set on a copy of a slice from a DataFrame.\n",
      "Try using .loc[row_indexer,col_indexer] = value instead\n",
      "\n",
      "See the caveats in the documentation: https://pandas.pydata.org/pandas-docs/stable/user_guide/indexing.html#returning-a-view-versus-a-copy\n"
     ]
    }
   ],
   "source": [
    "%%time\n",
    "review_df['revised'] = review_df['reviewText'].apply(lambda string: nlp(string))"
   ]
  },
  {
   "cell_type": "code",
   "execution_count": null,
   "id": "bd32a44f",
   "metadata": {},
   "outputs": [],
   "source": []
  },
  {
   "cell_type": "code",
   "execution_count": 19,
   "id": "b34e271d",
   "metadata": {},
   "outputs": [],
   "source": [
    "tags = ['JJR', 'JJS', 'RBR', 'RBS']\n",
    "def get_tags(text):\n",
    "    res = []\n",
    "    for token in text:\n",
    "        if token.tag_ in tags:\n",
    "            res.append(token.lower_)\n",
    "        else:\n",
    "            res.append(token.lemma_.lower())\n",
    "    return res\n",
    "        \n",
    "# lemma = lambda text: \" \".join([token.lower_ for token in text\n",
    "#                                if token.lemma_ in tags \n",
    "#                                else token.lemma_.lower()])\n"
   ]
  },
  {
   "cell_type": "code",
   "execution_count": 20,
   "id": "3f522c38",
   "metadata": {},
   "outputs": [
    {
     "name": "stderr",
     "output_type": "stream",
     "text": [
      "C:\\Users\\jerry\\AppData\\Local\\Temp/ipykernel_26136/2004571699.py:1: SettingWithCopyWarning: \n",
      "A value is trying to be set on a copy of a slice from a DataFrame.\n",
      "Try using .loc[row_indexer,col_indexer] = value instead\n",
      "\n",
      "See the caveats in the documentation: https://pandas.pydata.org/pandas-docs/stable/user_guide/indexing.html#returning-a-view-versus-a-copy\n",
      "  review_df['revised1'] = review_df['revised'].apply(lambda doc: get_tags(doc))\n"
     ]
    }
   ],
   "source": [
    "review_df['revised1'] = review_df['revised'].apply(lambda doc: get_tags(doc))"
   ]
  },
  {
   "cell_type": "code",
   "execution_count": 21,
   "id": "2207fc64",
   "metadata": {},
   "outputs": [],
   "source": [
    "def punctuations_remover(text):\n",
    "    res = []\n",
    "    '''remove the punctuations of each comment'''\n",
    "#         punct_string_list = []\n",
    "    for token in text:\n",
    "        if token not in revised_punct:\n",
    "            res.append(token)\n",
    "    return res"
   ]
  },
  {
   "cell_type": "code",
   "execution_count": 22,
   "id": "17af6b97",
   "metadata": {},
   "outputs": [
    {
     "name": "stderr",
     "output_type": "stream",
     "text": [
      "C:\\Users\\jerry\\AppData\\Local\\Temp/ipykernel_26136/2464897587.py:1: SettingWithCopyWarning: \n",
      "A value is trying to be set on a copy of a slice from a DataFrame.\n",
      "Try using .loc[row_indexer,col_indexer] = value instead\n",
      "\n",
      "See the caveats in the documentation: https://pandas.pydata.org/pandas-docs/stable/user_guide/indexing.html#returning-a-view-versus-a-copy\n",
      "  review_df['revised2'] = review_df['revised1'].apply(lambda doc: punctuations_remover(doc))\n"
     ]
    }
   ],
   "source": [
    "review_df['revised2'] = review_df['revised1'].apply(lambda doc: punctuations_remover(doc))"
   ]
  },
  {
   "cell_type": "code",
   "execution_count": 23,
   "id": "8aa56dc6",
   "metadata": {},
   "outputs": [],
   "source": [
    "def stopwords_remover(text):\n",
    "    stpw_string = []\n",
    "        \n",
    "    for token in text:\n",
    "        if token not in stopwords:\n",
    "            stpw_string.append(token)\n",
    "    return stpw_string"
   ]
  },
  {
   "cell_type": "code",
   "execution_count": 24,
   "id": "e4812f13",
   "metadata": {},
   "outputs": [
    {
     "name": "stderr",
     "output_type": "stream",
     "text": [
      "C:\\Users\\jerry\\AppData\\Local\\Temp/ipykernel_26136/788871023.py:1: SettingWithCopyWarning: \n",
      "A value is trying to be set on a copy of a slice from a DataFrame.\n",
      "Try using .loc[row_indexer,col_indexer] = value instead\n",
      "\n",
      "See the caveats in the documentation: https://pandas.pydata.org/pandas-docs/stable/user_guide/indexing.html#returning-a-view-versus-a-copy\n",
      "  review_df['revised3'] = review_df['revised2'].apply(lambda doc: stopwords_remover(doc))\n"
     ]
    }
   ],
   "source": [
    "review_df['revised3'] = review_df['revised2'].apply(lambda doc: stopwords_remover(doc))"
   ]
  },
  {
   "cell_type": "code",
   "execution_count": 25,
   "id": "988a0ecb",
   "metadata": {},
   "outputs": [],
   "source": [
    "# phrase modeling using noun chunk and named entity"
   ]
  },
  {
   "cell_type": "code",
   "execution_count": 26,
   "id": "d2df0bf0",
   "metadata": {},
   "outputs": [],
   "source": [
    "def named_entity(text):\n",
    "    res = []\n",
    "    for ent in text.ents:\n",
    "        res.append(ent.text.lower())\n",
    "    return res"
   ]
  },
  {
   "cell_type": "code",
   "execution_count": 27,
   "id": "7c7ba21b",
   "metadata": {},
   "outputs": [
    {
     "name": "stderr",
     "output_type": "stream",
     "text": [
      "C:\\Users\\jerry\\AppData\\Local\\Temp/ipykernel_26136/3235125434.py:1: SettingWithCopyWarning: \n",
      "A value is trying to be set on a copy of a slice from a DataFrame.\n",
      "Try using .loc[row_indexer,col_indexer] = value instead\n",
      "\n",
      "See the caveats in the documentation: https://pandas.pydata.org/pandas-docs/stable/user_guide/indexing.html#returning-a-view-versus-a-copy\n",
      "  review_df['revised4'] = review_df['revised'].apply(lambda doc: named_entity(doc))\n"
     ]
    }
   ],
   "source": [
    "review_df['revised4'] = review_df['revised'].apply(lambda doc: named_entity(doc))"
   ]
  },
  {
   "cell_type": "code",
   "execution_count": 28,
   "id": "03653962",
   "metadata": {},
   "outputs": [],
   "source": [
    "def name_chunk(text):\n",
    "    res = []\n",
    "    for chunk in text.noun_chunks:\n",
    "        res.append(chunk.text.lower())\n",
    "    return res"
   ]
  },
  {
   "cell_type": "code",
   "execution_count": 29,
   "id": "ebf1a877",
   "metadata": {},
   "outputs": [
    {
     "name": "stderr",
     "output_type": "stream",
     "text": [
      "C:\\Users\\jerry\\AppData\\Local\\Temp/ipykernel_26136/562258066.py:1: SettingWithCopyWarning: \n",
      "A value is trying to be set on a copy of a slice from a DataFrame.\n",
      "Try using .loc[row_indexer,col_indexer] = value instead\n",
      "\n",
      "See the caveats in the documentation: https://pandas.pydata.org/pandas-docs/stable/user_guide/indexing.html#returning-a-view-versus-a-copy\n",
      "  review_df['revised5'] = review_df['revised'].apply(lambda doc: name_chunk(doc))\n"
     ]
    }
   ],
   "source": [
    "review_df['revised5'] = review_df['revised'].apply(lambda doc: name_chunk(doc))"
   ]
  },
  {
   "cell_type": "code",
   "execution_count": 30,
   "id": "af230ada",
   "metadata": {},
   "outputs": [],
   "source": [
    "def name_chunk_add(review_df):\n",
    "    try:\n",
    "        \n",
    "        comparison_candidate = review_df['revised3']\n",
    "        need_to_compare = review_df['revised4'] + review_df['revised5']\n",
    "        res = comparison_candidate\n",
    "\n",
    "        for index, noun_list in enumerate(need_to_compare):\n",
    "            for token in noun_list:\n",
    "                if token not in set(comparison_candidate[index]):\n",
    "                    res[index].append(token)\n",
    "        return res\n",
    "    \n",
    "    except KeyError:\n",
    "        return res"
   ]
  },
  {
   "cell_type": "code",
   "execution_count": 31,
   "id": "09ee71d4",
   "metadata": {
    "scrolled": false
   },
   "outputs": [
    {
     "name": "stderr",
     "output_type": "stream",
     "text": [
      "C:\\Users\\jerry\\AppData\\Local\\Temp/ipykernel_26136/1625210226.py:1: SettingWithCopyWarning: \n",
      "A value is trying to be set on a copy of a slice from a DataFrame.\n",
      "Try using .loc[row_indexer,col_indexer] = value instead\n",
      "\n",
      "See the caveats in the documentation: https://pandas.pydata.org/pandas-docs/stable/user_guide/indexing.html#returning-a-view-versus-a-copy\n",
      "  review_df['revised6'] = name_chunk_add(review_df)\n"
     ]
    }
   ],
   "source": [
    "review_df['revised6'] = name_chunk_add(review_df)"
   ]
  },
  {
   "cell_type": "code",
   "execution_count": 32,
   "id": "5160770f",
   "metadata": {},
   "outputs": [],
   "source": [
    "tokenized = review_df['revised6']"
   ]
  },
  {
   "cell_type": "code",
   "execution_count": 33,
   "id": "de0a5242",
   "metadata": {},
   "outputs": [],
   "source": [
    "# tokenized = review_df['revised3']"
   ]
  },
  {
   "cell_type": "code",
   "execution_count": 34,
   "id": "51b58f30",
   "metadata": {},
   "outputs": [],
   "source": [
    "# TF-IDF"
   ]
  },
  {
   "cell_type": "code",
   "execution_count": 35,
   "id": "9dbf271d",
   "metadata": {},
   "outputs": [
    {
     "name": "stdout",
     "output_type": "stream",
     "text": [
      "ID: 0, Token: ...\n",
      "ID: 1, Token: all\n",
      "ID: 2, Token: certainly\n",
      "ID: 3, Token: close\n",
      "ID: 4, Token: come\n",
      "ID: 5, Token: culture\n",
      "ID: 6, Token: end\n",
      "ID: 7, Token: enjoy\n",
      "ID: 8, Token: exactly\n",
      "ID: 9, Token: exactly what\n"
     ]
    }
   ],
   "source": [
    "from gensim.corpora.dictionary import Dictionary\n",
    "\n",
    "vocabulary = Dictionary(tokenized)\n",
    "vocabulary.filter_extremes(no_below=20, no_above=0.2)\n",
    "vocabulary.compactify()\n",
    "\n",
    "vocabulary_keys = list(vocabulary.token2id)[0:10]\n",
    "\n",
    "for key in vocabulary_keys:\n",
    "    print(f\"ID: {vocabulary.token2id[key]}, Token: {key}\")"
   ]
  },
  {
   "cell_type": "code",
   "execution_count": 36,
   "id": "eee31b70",
   "metadata": {},
   "outputs": [
    {
     "name": "stdout",
     "output_type": "stream",
     "text": [
      "Word: ..., Frequency: 2\n",
      "Word: all, Frequency: 1\n",
      "Word: certainly, Frequency: 1\n",
      "Word: close, Frequency: 1\n",
      "Word: come, Frequency: 2\n",
      "Word: culture, Frequency: 1\n",
      "Word: end, Frequency: 1\n",
      "Word: enjoy, Frequency: 1\n",
      "Word: exactly, Frequency: 1\n",
      "Word: exactly what, Frequency: 1\n",
      "Word: family, Frequency: 1\n",
      "Word: feel, Frequency: 1\n",
      "Word: feeling, Frequency: 1\n",
      "Word: first, Frequency: 1\n",
      "Word: friendship, Frequency: 1\n",
      "Word: grow, Frequency: 1\n",
      "Word: hit, Frequency: 1\n",
      "Word: little, Frequency: 1\n",
      "Word: live, Frequency: 1\n",
      "Word: look, Frequency: 2\n",
      "Word: main, Frequency: 1\n",
      "Word: me, Frequency: 1\n",
      "Word: pick, Frequency: 1\n",
      "Word: right, Frequency: 1\n",
      "Word: romance, Frequency: 2\n",
      "Word: spot, Frequency: 1\n",
      "Word: start, Frequency: 1\n",
      "Word: story, Frequency: 1\n",
      "Word: tell, Frequency: 1\n",
      "Word: the book, Frequency: 1\n",
      "Word: the end, Frequency: 1\n",
      "Word: the first time, Frequency: 1\n",
      "Word: the story, Frequency: 1\n",
      "Word: this book, Frequency: 1\n",
      "Word: time, Frequency: 1\n",
      "Word: turn, Frequency: 1\n",
      "Word: way, Frequency: 1\n",
      "Word: write, Frequency: 1\n"
     ]
    }
   ],
   "source": [
    "bow = [vocabulary.doc2bow(doc) for doc in tokenized]\n",
    "\n",
    "for idx, freq in bow[0]:\n",
    "    print(f\"Word: {vocabulary.get(idx)}, Frequency: {freq}\")"
   ]
  },
  {
   "cell_type": "code",
   "execution_count": 37,
   "id": "3324473e",
   "metadata": {},
   "outputs": [
    {
     "name": "stdout",
     "output_type": "stream",
     "text": [
      "Word: ..., Weight: 0.264\n",
      "Word: all, Weight: 0.112\n",
      "Word: certainly, Weight: 0.193\n",
      "Word: close, Weight: 0.178\n",
      "Word: come, Weight: 0.201\n",
      "Word: culture, Weight: 0.226\n",
      "Word: end, Weight: 0.115\n",
      "Word: enjoy, Weight: 0.097\n",
      "Word: exactly, Weight: 0.153\n",
      "Word: exactly what, Weight: 0.183\n",
      "Word: family, Weight: 0.133\n",
      "Word: feel, Weight: 0.116\n",
      "Word: feeling, Weight: 0.194\n",
      "Word: first, Weight: 0.102\n",
      "Word: friendship, Weight: 0.255\n",
      "Word: grow, Weight: 0.185\n",
      "Word: hit, Weight: 0.198\n",
      "Word: little, Weight: 0.110\n",
      "Word: live, Weight: 0.155\n",
      "Word: look, Weight: 0.187\n",
      "Word: main, Weight: 0.148\n",
      "Word: me, Weight: 0.076\n",
      "Word: pick, Weight: 0.169\n",
      "Word: right, Weight: 0.123\n",
      "Word: romance, Weight: 0.310\n",
      "Word: spot, Weight: 0.202\n",
      "Word: start, Weight: 0.119\n",
      "Word: story, Weight: 0.078\n",
      "Word: tell, Weight: 0.132\n",
      "Word: the book, Weight: 0.103\n",
      "Word: the end, Weight: 0.148\n",
      "Word: the first time, Weight: 0.216\n",
      "Word: the story, Weight: 0.118\n",
      "Word: this book, Weight: 0.083\n",
      "Word: time, Weight: 0.082\n",
      "Word: turn, Weight: 0.114\n",
      "Word: way, Weight: 0.104\n",
      "Word: write, Weight: 0.109\n"
     ]
    }
   ],
   "source": [
    "# 越大越重要\n",
    "from gensim.models.tfidfmodel import TfidfModel\n",
    "\n",
    "tfidf = TfidfModel(bow, id2word=vocabulary)\n",
    "\n",
    "\n",
    "for idx, weight in tfidf[bow[0]]:\n",
    "    print(f\"Word: {vocabulary.get(idx)}, Weight: {weight:.3f}\")"
   ]
  },
  {
   "cell_type": "code",
   "execution_count": 38,
   "id": "83bdefcc",
   "metadata": {},
   "outputs": [],
   "source": [
    "docs_tfidf = tfidf[bow]\n",
    "from gensim.matutils import sparse2full"
   ]
  },
  {
   "cell_type": "code",
   "execution_count": 39,
   "id": "cade43bf",
   "metadata": {},
   "outputs": [
    {
     "name": "stdout",
     "output_type": "stream",
     "text": [
      "Wall time: 1.23 s\n"
     ]
    }
   ],
   "source": [
    "%%time\n",
    "docs_vecs = np.vstack([sparse2full(c, len(vocabulary)) for c in docs_tfidf])"
   ]
  },
  {
   "cell_type": "code",
   "execution_count": 40,
   "id": "014b7554",
   "metadata": {
    "scrolled": true
   },
   "outputs": [
    {
     "data": {
      "text/plain": [
       "(9998, 2313)"
      ]
     },
     "execution_count": 40,
     "metadata": {},
     "output_type": "execute_result"
    }
   ],
   "source": [
    "docs_vecs.shape"
   ]
  },
  {
   "cell_type": "code",
   "execution_count": 41,
   "id": "1853e5f6",
   "metadata": {},
   "outputs": [],
   "source": [
    "tfidf_emb_vecs = np.vstack([nlp(vocabulary[i]).vector for i in range(len(vocabulary))])"
   ]
  },
  {
   "cell_type": "code",
   "execution_count": 42,
   "id": "38bfc41c",
   "metadata": {},
   "outputs": [],
   "source": [
    "docs_emb = np.dot(docs_vecs, tfidf_emb_vecs)"
   ]
  },
  {
   "cell_type": "code",
   "execution_count": 43,
   "id": "f2681938",
   "metadata": {
    "scrolled": true
   },
   "outputs": [
    {
     "data": {
      "text/html": [
       "<div>\n",
       "<style scoped>\n",
       "    .dataframe tbody tr th:only-of-type {\n",
       "        vertical-align: middle;\n",
       "    }\n",
       "\n",
       "    .dataframe tbody tr th {\n",
       "        vertical-align: top;\n",
       "    }\n",
       "\n",
       "    .dataframe thead th {\n",
       "        text-align: right;\n",
       "    }\n",
       "</style>\n",
       "<table border=\"1\" class=\"dataframe\">\n",
       "  <thead>\n",
       "    <tr style=\"text-align: right;\">\n",
       "      <th></th>\n",
       "      <th>0</th>\n",
       "      <th>1</th>\n",
       "      <th>2</th>\n",
       "      <th>3</th>\n",
       "      <th>4</th>\n",
       "      <th>5</th>\n",
       "      <th>6</th>\n",
       "      <th>7</th>\n",
       "      <th>8</th>\n",
       "      <th>9</th>\n",
       "      <th>...</th>\n",
       "      <th>87</th>\n",
       "      <th>88</th>\n",
       "      <th>89</th>\n",
       "      <th>90</th>\n",
       "      <th>91</th>\n",
       "      <th>92</th>\n",
       "      <th>93</th>\n",
       "      <th>94</th>\n",
       "      <th>95</th>\n",
       "      <th>label</th>\n",
       "    </tr>\n",
       "  </thead>\n",
       "  <tbody>\n",
       "    <tr>\n",
       "      <th>0</th>\n",
       "      <td>-3.350556</td>\n",
       "      <td>-1.389183</td>\n",
       "      <td>0.956055</td>\n",
       "      <td>3.264151</td>\n",
       "      <td>0.884456</td>\n",
       "      <td>-0.085451</td>\n",
       "      <td>1.032495</td>\n",
       "      <td>2.594609</td>\n",
       "      <td>-0.726739</td>\n",
       "      <td>0.059141</td>\n",
       "      <td>...</td>\n",
       "      <td>1.105538</td>\n",
       "      <td>-2.947981</td>\n",
       "      <td>2.650774</td>\n",
       "      <td>-3.581011</td>\n",
       "      <td>-0.587705</td>\n",
       "      <td>-3.489867</td>\n",
       "      <td>0.953779</td>\n",
       "      <td>5.482666</td>\n",
       "      <td>0.809226</td>\n",
       "      <td>1</td>\n",
       "    </tr>\n",
       "    <tr>\n",
       "      <th>1</th>\n",
       "      <td>-1.211052</td>\n",
       "      <td>-0.267716</td>\n",
       "      <td>1.012455</td>\n",
       "      <td>1.841263</td>\n",
       "      <td>-0.802114</td>\n",
       "      <td>0.082516</td>\n",
       "      <td>-0.808789</td>\n",
       "      <td>0.800068</td>\n",
       "      <td>-0.397970</td>\n",
       "      <td>0.123186</td>\n",
       "      <td>...</td>\n",
       "      <td>-0.212506</td>\n",
       "      <td>-1.817270</td>\n",
       "      <td>-0.049529</td>\n",
       "      <td>0.231804</td>\n",
       "      <td>-0.446672</td>\n",
       "      <td>-0.439933</td>\n",
       "      <td>0.002256</td>\n",
       "      <td>3.377240</td>\n",
       "      <td>0.197218</td>\n",
       "      <td>1</td>\n",
       "    </tr>\n",
       "    <tr>\n",
       "      <th>2</th>\n",
       "      <td>-1.289004</td>\n",
       "      <td>-0.786475</td>\n",
       "      <td>1.026412</td>\n",
       "      <td>2.601986</td>\n",
       "      <td>-0.610665</td>\n",
       "      <td>-0.159659</td>\n",
       "      <td>-0.719362</td>\n",
       "      <td>1.469169</td>\n",
       "      <td>-0.339422</td>\n",
       "      <td>-0.369994</td>\n",
       "      <td>...</td>\n",
       "      <td>0.084332</td>\n",
       "      <td>-1.322593</td>\n",
       "      <td>1.429223</td>\n",
       "      <td>-1.780594</td>\n",
       "      <td>-1.267735</td>\n",
       "      <td>-1.706541</td>\n",
       "      <td>0.892440</td>\n",
       "      <td>2.473776</td>\n",
       "      <td>0.484116</td>\n",
       "      <td>1</td>\n",
       "    </tr>\n",
       "    <tr>\n",
       "      <th>3</th>\n",
       "      <td>-2.882333</td>\n",
       "      <td>-1.190479</td>\n",
       "      <td>0.819220</td>\n",
       "      <td>2.058869</td>\n",
       "      <td>-0.749763</td>\n",
       "      <td>0.229447</td>\n",
       "      <td>-1.539450</td>\n",
       "      <td>1.785059</td>\n",
       "      <td>-0.523463</td>\n",
       "      <td>-0.241924</td>\n",
       "      <td>...</td>\n",
       "      <td>-0.108942</td>\n",
       "      <td>-2.390482</td>\n",
       "      <td>0.966820</td>\n",
       "      <td>-0.930216</td>\n",
       "      <td>-1.280900</td>\n",
       "      <td>-2.330873</td>\n",
       "      <td>1.412799</td>\n",
       "      <td>5.059027</td>\n",
       "      <td>0.655674</td>\n",
       "      <td>1</td>\n",
       "    </tr>\n",
       "    <tr>\n",
       "      <th>4</th>\n",
       "      <td>-1.348990</td>\n",
       "      <td>-0.852109</td>\n",
       "      <td>0.263962</td>\n",
       "      <td>2.079113</td>\n",
       "      <td>-0.046367</td>\n",
       "      <td>-0.261220</td>\n",
       "      <td>-1.348241</td>\n",
       "      <td>1.102972</td>\n",
       "      <td>-0.634390</td>\n",
       "      <td>-0.490819</td>\n",
       "      <td>...</td>\n",
       "      <td>-0.658933</td>\n",
       "      <td>-0.786192</td>\n",
       "      <td>1.327013</td>\n",
       "      <td>-1.213115</td>\n",
       "      <td>-1.508843</td>\n",
       "      <td>-0.523598</td>\n",
       "      <td>0.159971</td>\n",
       "      <td>2.526519</td>\n",
       "      <td>0.123264</td>\n",
       "      <td>1</td>\n",
       "    </tr>\n",
       "  </tbody>\n",
       "</table>\n",
       "<p>5 rows × 97 columns</p>\n",
       "</div>"
      ],
      "text/plain": [
       "          0         1         2         3         4         5         6  \\\n",
       "0 -3.350556 -1.389183  0.956055  3.264151  0.884456 -0.085451  1.032495   \n",
       "1 -1.211052 -0.267716  1.012455  1.841263 -0.802114  0.082516 -0.808789   \n",
       "2 -1.289004 -0.786475  1.026412  2.601986 -0.610665 -0.159659 -0.719362   \n",
       "3 -2.882333 -1.190479  0.819220  2.058869 -0.749763  0.229447 -1.539450   \n",
       "4 -1.348990 -0.852109  0.263962  2.079113 -0.046367 -0.261220 -1.348241   \n",
       "\n",
       "          7         8         9  ...        87        88        89        90  \\\n",
       "0  2.594609 -0.726739  0.059141  ...  1.105538 -2.947981  2.650774 -3.581011   \n",
       "1  0.800068 -0.397970  0.123186  ... -0.212506 -1.817270 -0.049529  0.231804   \n",
       "2  1.469169 -0.339422 -0.369994  ...  0.084332 -1.322593  1.429223 -1.780594   \n",
       "3  1.785059 -0.523463 -0.241924  ... -0.108942 -2.390482  0.966820 -0.930216   \n",
       "4  1.102972 -0.634390 -0.490819  ... -0.658933 -0.786192  1.327013 -1.213115   \n",
       "\n",
       "         91        92        93        94        95  label  \n",
       "0 -0.587705 -3.489867  0.953779  5.482666  0.809226      1  \n",
       "1 -0.446672 -0.439933  0.002256  3.377240  0.197218      1  \n",
       "2 -1.267735 -1.706541  0.892440  2.473776  0.484116      1  \n",
       "3 -1.280900 -2.330873  1.412799  5.059027  0.655674      1  \n",
       "4 -1.508843 -0.523598  0.159971  2.526519  0.123264      1  \n",
       "\n",
       "[5 rows x 97 columns]"
      ]
     },
     "metadata": {},
     "output_type": "display_data"
    }
   ],
   "source": [
    "model_df = pd.DataFrame(docs_emb)\n",
    "model_df[\"label\"] = review_df[\"Rating\"]\n",
    "\n",
    "display(model_df.head())"
   ]
  },
  {
   "cell_type": "code",
   "execution_count": 50,
   "id": "88fd0d07",
   "metadata": {
    "scrolled": true
   },
   "outputs": [
    {
     "data": {
      "text/plain": [
       "<matplotlib.collections.PathCollection at 0x222c9a8a820>"
      ]
     },
     "execution_count": 50,
     "metadata": {},
     "output_type": "execute_result"
    },
    {
     "data": {
      "image/png": "[encoded data removed]",
      "text/plain": [
       "<Figure size 1440x720 with 1 Axes>"
      ]
     },
     "metadata": {
      "needs_background": "light"
     },
     "output_type": "display_data"
    }
   ],
   "source": [
    "import matplotlib.pyplot as plt\n",
    "\n",
    "from sklearn.decomposition import PCA\n",
    "\n",
    "#sampling the model_df population\n",
    "pca_df = model_df.reset_index()\n",
    "pca_df = model_df.dropna(axis=0).iloc[:,1:]\n",
    "# pca_df = pca_df.iloc[::50]\n",
    "\n",
    "#setting up PCA\n",
    "pca = PCA(n_components=2, random_state=42)\n",
    "pca = pca.fit_transform(pca_df.iloc[:, :-1])\n",
    "labels = pca_df[\"label\"]\n",
    "\n",
    "#setting up plot components\n",
    "x_axis = pca[:,0]\n",
    "y_axis = pca[:,1]\n",
    "color_map = pca_df[\"label\"].map({0:\"blue\", \\\n",
    "                                 1:\"red\" })\n",
    "#                                  3:\"yellow\", \\\n",
    "#                                  4:\"green\", \\\n",
    "#                                  5:\"orange\"})\n",
    "\n",
    "#plotting PCA\n",
    "f, axes = plt.subplots(figsize=(20,10))\n",
    "plt.scatter(x_axis, y_axis, color=color_map, s=1)\n",
    "plt.show()"
   ]
  },
  {
   "cell_type": "code",
   "execution_count": 51,
   "id": "154d396a",
   "metadata": {
    "scrolled": false
   },
   "outputs": [
    {
     "data": {
      "image/png": "[encoded data removed]",
      "text/plain": [
       "<Figure size 1440x1080 with 1 Axes>"
      ]
     },
     "metadata": {
      "needs_background": "light"
     },
     "output_type": "display_data"
    }
   ],
   "source": [
    "import seaborn as sns\n",
    "\n",
    "f, axes = plt.subplots(figsize=(20,15))\n",
    "ax = sns.countplot(x=review_df[\"Rating\"], palette=\"OrRd_r\")\n",
    "ax.set(title=\"Distribution of Product Ratings\", \\\n",
    "       xlabel=\"Rating\", ylabel=\"Number of Reviews\")\n",
    "plt.show();"
   ]
  },
  {
   "cell_type": "code",
   "execution_count": 52,
   "id": "cac97fe2",
   "metadata": {},
   "outputs": [],
   "source": [
    "from sklearn.model_selection import KFold\n",
    "from sklearn.ensemble import RandomForestClassifier, GradientBoostingClassifier\n",
    "from sklearn.linear_model import LogisticRegression\n",
    "from sklearn.svm import SVC\n",
    "from sklearn import svm\n",
    "from sklearn.neighbors import KNeighborsClassifier\n",
    "from xgboost import XGBClassifier\n",
    "from sklearn.neural_network import MLPClassifier\n",
    "from sklearn.model_selection import cross_validate\n",
    "from sklearn.svm import LinearSVC\n",
    "from sklearn.model_selection import cross_val_score\n",
    "from sklearn.model_selection import GridSearchCV"
   ]
  },
  {
   "cell_type": "code",
   "execution_count": 79,
   "id": "8a0c3d4f",
   "metadata": {},
   "outputs": [],
   "source": [
    "from imblearn.pipeline import Pipeline, make_pipeline\n",
    "from imblearn.over_sampling import SMOTE\n",
    "from imblearn.over_sampling import RandomOverSampler\n",
    "from imblearn.combine import SMOTETomek\n",
    "from imblearn.under_sampling import RandomUnderSampler"
   ]
  },
  {
   "cell_type": "code",
   "execution_count": 80,
   "id": "6a97cc49",
   "metadata": {},
   "outputs": [],
   "source": [
    "from sklearn.ensemble import RandomForestClassifier\n",
    "\n",
    "forest = RandomForestClassifier(n_estimators=25, \\\n",
    "                                criterion=\"entropy\", random_state=42)\n",
    "kf = KFold(n_splits=10, shuffle=True, random_state=1)\n",
    "SMOTE = SMOTE(random_state=0, sampling_strategy='not majority')"
   ]
  },
  {
   "cell_type": "code",
   "execution_count": 81,
   "id": "26e6fefa",
   "metadata": {},
   "outputs": [],
   "source": [
    "X = model_df.iloc[:, :-1]\n",
    "y = model_df.iloc[:, -1]"
   ]
  },
  {
   "cell_type": "code",
   "execution_count": 82,
   "id": "ffa6a89f",
   "metadata": {},
   "outputs": [],
   "source": [
    "from sklearn.model_selection import train_test_split\n",
    "\n",
    "for train, test, in kf.split(X, y):\n",
    "    X_train, X_test = X.iloc[train], X.iloc[test]\n",
    "    y_train, y_test = y.iloc[train], y.iloc[test]"
   ]
  },
  {
   "cell_type": "code",
   "execution_count": 83,
   "id": "0b613afa",
   "metadata": {},
   "outputs": [],
   "source": [
    "X_train_oversampled, y_train_oversampled = SMOTE.fit_resample(X_train, y_train)"
   ]
  },
  {
   "cell_type": "code",
   "execution_count": 84,
   "id": "edd78211",
   "metadata": {},
   "outputs": [
    {
     "data": {
      "text/plain": [
       "RandomForestClassifier(criterion='entropy', n_estimators=25, random_state=42)"
      ]
     },
     "execution_count": 84,
     "metadata": {},
     "output_type": "execute_result"
    }
   ],
   "source": [
    "# random forest\n",
    "\n",
    "forest.fit(X_train_oversampled, y_train_oversampled )"
   ]
  },
  {
   "cell_type": "code",
   "execution_count": 85,
   "id": "389530a8",
   "metadata": {},
   "outputs": [
    {
     "name": "stdout",
     "output_type": "stream",
     "text": [
      "Training Set Accuracy: 98.850%\n",
      "Training Set F1 Score: 0.988\n"
     ]
    }
   ],
   "source": [
    "from sklearn import metrics\n",
    "y_pred = forest.predict(X_train_oversampled)\n",
    "\n",
    "accuracy = metrics.accuracy_score(y_train_oversampled, y_pred)\n",
    "f1_score = metrics.f1_score(y_train_oversampled, y_pred, average=\"micro\")\n",
    "\n",
    "print(f\"Training Set Accuracy: {accuracy*100:.3f}%\")\n",
    "print(f\"Training Set F1 Score: {f1_score:.3f}\")"
   ]
  },
  {
   "cell_type": "code",
   "execution_count": 92,
   "id": "1788adb7",
   "metadata": {
    "scrolled": true
   },
   "outputs": [
    {
     "name": "stdout",
     "output_type": "stream",
     "text": [
      "              precision    recall  f1-score   support\n",
      "\n",
      "           0       0.36      0.32      0.34       213\n",
      "           1       0.82      0.85      0.83       786\n",
      "\n",
      "    accuracy                           0.73       999\n",
      "   macro avg       0.59      0.58      0.59       999\n",
      "weighted avg       0.72      0.73      0.73       999\n",
      "\n",
      "Accuracy of the train dataset: 0.9885\n",
      "Accuracy of the test dataset: 0.7347\n"
     ]
    }
   ],
   "source": [
    "# get the classification report\n",
    "from sklearn.metrics import classification_report\n",
    "\n",
    "predictions = forest.predict(X_test)\n",
    "print(classification_report(y_test, predictions))\n",
    "# Accuracy of the train and test dataset\n",
    "print('Accuracy of the train dataset: {:.4f}'.format(forest.score(X_train_oversampled, y_train_oversampled)))\n",
    "print('Accuracy of the test dataset: {:.4f}'.format(forest.score(X_test, y_test)))"
   ]
  },
  {
   "cell_type": "code",
   "execution_count": 93,
   "id": "c1353d30",
   "metadata": {},
   "outputs": [],
   "source": [
    "# XGBoost"
   ]
  },
  {
   "cell_type": "code",
   "execution_count": null,
   "id": "b903f660",
   "metadata": {},
   "outputs": [],
   "source": [
    "# testing the original data"
   ]
  },
  {
   "cell_type": "code",
   "execution_count": 111,
   "id": "0f52ffa6",
   "metadata": {},
   "outputs": [],
   "source": [
    "from sklearn.model_selection import train_test_split\n",
    "\n",
    "X_train_org, X_test_org, y_train_org, y_test_org = train_test_split(X, y, stratify=y, test_size=0.3, random_state=42)"
   ]
  },
  {
   "cell_type": "code",
   "execution_count": 112,
   "id": "4036a912",
   "metadata": {},
   "outputs": [
    {
     "name": "stdout",
     "output_type": "stream",
     "text": [
      "Training Set Accuracy: 96.842%\n",
      "Training Set F1 Score: 0.968\n"
     ]
    }
   ],
   "source": [
    "y_pred_org = forest.predict(X_train_org)\n",
    "\n",
    "accuracy_org = metrics.accuracy_score(y_train_org, y_pred_org)\n",
    "f1_score_org = metrics.f1_score(y_train_org, y_pred_org, average=\"micro\")\n",
    "\n",
    "print(f\"Training Set Accuracy: {accuracy_org*100:.3f}%\")\n",
    "print(f\"Training Set F1 Score: {f1_score_org:.3f}\")"
   ]
  },
  {
   "cell_type": "code",
   "execution_count": 113,
   "id": "71bf01cd",
   "metadata": {
    "scrolled": true
   },
   "outputs": [
    {
     "name": "stdout",
     "output_type": "stream",
     "text": [
      "              precision    recall  f1-score   support\n",
      "\n",
      "           0       0.92      0.89      0.90       599\n",
      "           1       0.97      0.98      0.98      2401\n",
      "\n",
      "    accuracy                           0.96      3000\n",
      "   macro avg       0.95      0.93      0.94      3000\n",
      "weighted avg       0.96      0.96      0.96      3000\n",
      "\n",
      "Accuracy of the train dataset: 0.9684\n",
      "Accuracy of the test dataset: 0.9627\n"
     ]
    }
   ],
   "source": [
    "predictions_org = forest.predict(X_test_org)\n",
    "print(classification_report(y_test_org, predictions_org))\n",
    "# Accuracy of the train and test dataset\n",
    "print('Accuracy of the train dataset: {:.4f}'.format(forest.score(X_train_org, y_train_org)))\n",
    "print('Accuracy of the test dataset: {:.4f}'.format(forest.score(X_test_org, y_test_org)))"
   ]
  },
  {
   "cell_type": "code",
   "execution_count": 88,
   "id": "a2a5a888",
   "metadata": {},
   "outputs": [],
   "source": [
    "# testing the org data with rf fitting org"
   ]
  },
  {
   "cell_type": "code",
   "execution_count": 116,
   "id": "5d46cbc7",
   "metadata": {},
   "outputs": [],
   "source": [
    "forest_org = RandomForestClassifier(n_estimators=25, \\\n",
    "                                criterion=\"entropy\", random_state=42)"
   ]
  },
  {
   "cell_type": "code",
   "execution_count": 117,
   "id": "5028955e",
   "metadata": {},
   "outputs": [
    {
     "data": {
      "text/plain": [
       "RandomForestClassifier(criterion='entropy', n_estimators=25, random_state=42)"
      ]
     },
     "execution_count": 117,
     "metadata": {},
     "output_type": "execute_result"
    }
   ],
   "source": [
    "forest_org.fit(X_train_org, y_train_org)"
   ]
  },
  {
   "cell_type": "code",
   "execution_count": 118,
   "id": "589d06fa",
   "metadata": {},
   "outputs": [
    {
     "name": "stdout",
     "output_type": "stream",
     "text": [
      "Training Set Accuracy: 99.100%\n",
      "Training Set F1 Score: 0.991\n"
     ]
    }
   ],
   "source": [
    "y_pred_rf_org = forest_org.predict(X_train_org)\n",
    "\n",
    "accuracy_rf_org = metrics.accuracy_score(y_train_org, y_pred_rf_org)\n",
    "f1_score_rf_org = metrics.f1_score(y_train_org, y_pred_rf_org, average=\"micro\")\n",
    "\n",
    "print(f\"Training Set Accuracy: {accuracy_rf_org*100:.3f}%\")\n",
    "print(f\"Training Set F1 Score: {accuracy_rf_org:.3f}\")"
   ]
  },
  {
   "cell_type": "code",
   "execution_count": 119,
   "id": "4f61d616",
   "metadata": {},
   "outputs": [
    {
     "name": "stdout",
     "output_type": "stream",
     "text": [
      "              precision    recall  f1-score   support\n",
      "\n",
      "           0       0.53      0.07      0.12       599\n",
      "           1       0.81      0.99      0.89      2401\n",
      "\n",
      "    accuracy                           0.80      3000\n",
      "   macro avg       0.67      0.53      0.50      3000\n",
      "weighted avg       0.75      0.80      0.73      3000\n",
      "\n",
      "Accuracy of the train dataset: 0.9910\n",
      "Accuracy of the test dataset: 0.8017\n"
     ]
    }
   ],
   "source": [
    "predictions_rf_org = forest_org.predict(X_test_org)\n",
    "print(classification_report(y_test_org, predictions_rf_org))\n",
    "# Accuracy of the train and test dataset\n",
    "print('Accuracy of the train dataset: {:.4f}'.format(forest_org.score(X_train_org, y_train_org)))\n",
    "print('Accuracy of the test dataset: {:.4f}'.format(forest_org.score(X_test_org, y_test_org)))"
   ]
  },
  {
   "cell_type": "code",
   "execution_count": null,
   "id": "7830b304",
   "metadata": {},
   "outputs": [],
   "source": []
  },
  {
   "cell_type": "code",
   "execution_count": null,
   "id": "abe5b5f8",
   "metadata": {},
   "outputs": [],
   "source": []
  }
 ],
 "metadata": {
  "kernelspec": {
   "display_name": "nlp",
   "language": "python",
   "name": "nlp"
  },
  "language_info": {
   "codemirror_mode": {
    "name": "ipython",
    "version": 3
   },
   "file_extension": ".py",
   "mimetype": "text/x-python",
   "name": "python",
   "nbconvert_exporter": "python",
   "pygments_lexer": "ipython3",
   "version": "3.8.10"
  }
 },
 "nbformat": 4,
 "nbformat_minor": 5
}
